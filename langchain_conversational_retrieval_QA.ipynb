{
 "cells": [
  {
   "cell_type": "code",
   "execution_count": 1,
   "metadata": {
    "ExecuteTime": {
     "end_time": "2023-11-18T00:11:51.012803041Z",
     "start_time": "2023-11-18T00:11:49.773748329Z"
    }
   },
   "outputs": [],
   "source": [
    "from langchain.embeddings.openai import OpenAIEmbeddings\n",
    "from langchain.embeddings import HuggingFaceInstructEmbeddings\n",
    "from langchain.vectorstores import Chroma, FAISS\n",
    "from langchain.text_splitter import CharacterTextSplitter\n",
    "from langchain.llms import OpenAI\n",
    "from langchain.chains import ConversationalRetrievalChain\n",
    "\n",
    "import openai\n",
    "import os\n",
    "# openai.api_key = \"\"\n",
    "os.environ['OPENAI_API_KEY'] = \"\""
   ]
  },
  {
   "cell_type": "code",
   "execution_count": 2,
   "metadata": {
    "ExecuteTime": {
     "end_time": "2023-11-17T23:15:34.306533612Z",
     "start_time": "2023-11-17T23:14:35.866165041Z"
    }
   },
   "outputs": [
    {
     "name": "stderr",
     "output_type": "stream",
     "text": [
      "100%|██████████| 12/12 [01:16<00:00,  6.36s/it]\n",
      "Created a chunk of size 2460, which is longer than the specified 1000\n",
      "Created a chunk of size 1791, which is longer than the specified 1000\n",
      "Created a chunk of size 1614, which is longer than the specified 1000\n",
      "Created a chunk of size 1389, which is longer than the specified 1000\n",
      "Created a chunk of size 1066, which is longer than the specified 1000\n",
      "Created a chunk of size 1544, which is longer than the specified 1000\n",
      "Created a chunk of size 1019, which is longer than the specified 1000\n",
      "Created a chunk of size 1229, which is longer than the specified 1000\n"
     ]
    }
   ],
   "source": [
    "from langchain.document_loaders import TextLoader\n",
    "from langchain.document_loaders import DirectoryLoader\n",
    "\n",
    "loader = DirectoryLoader('data/TextBooks', glob=\"./dsc250fall2023*\", show_progress=True) ### many doc loaders\n",
    "docs = loader.load()\n",
    "\n",
    "text_splitter = CharacterTextSplitter(chunk_size=1000, chunk_overlap=0)\n",
    "documents = text_splitter.split_documents(docs)"
   ]
  },
  {
   "cell_type": "code",
   "execution_count": 3,
   "metadata": {
    "ExecuteTime": {
     "start_time": "2023-11-17T23:15:34.310057067Z"
    }
   },
   "outputs": [
    {
     "name": "stderr",
     "output_type": "stream",
     "text": [
      "/home/reventh/anaconda3/envs/lmtutor/lib/python3.9/site-packages/InstructorEmbedding/instructor.py:7: TqdmExperimentalWarning: Using `tqdm.autonotebook.tqdm` in notebook mode. Use `tqdm.tqdm` instead to force console mode (e.g. in jupyter console)\n",
      "  from tqdm.autonotebook import trange\n"
     ]
    },
    {
     "name": "stdout",
     "output_type": "stream",
     "text": [
      "load INSTRUCTOR_Transformer\n",
      "max_seq_length  512\n"
     ]
    }
   ],
   "source": [
    "# embeddings = OpenAIEmbeddings() ### many embedding functions\n",
    "embeddings = HuggingFaceInstructEmbeddings(query_instruction=\"Represent the query for retrieval: \", model_kwargs={'device':'cuda:0'}, encode_kwargs={'batch_size':32})\n"
   ]
  },
  {
   "cell_type": "code",
   "execution_count": 4,
   "metadata": {},
   "outputs": [
    {
     "data": {
      "text/plain": [
       "HuggingFaceInstructEmbeddings(client=INSTRUCTOR(\n",
       "  (0): Transformer({'max_seq_length': 512, 'do_lower_case': False}) with Transformer model: T5EncoderModel \n",
       "  (1): Pooling({'word_embedding_dimension': 768, 'pooling_mode_cls_token': False, 'pooling_mode_mean_tokens': True, 'pooling_mode_max_tokens': False, 'pooling_mode_mean_sqrt_len_tokens': False, 'pooling_mode_weightedmean_tokens': False, 'pooling_mode_lasttoken': False})\n",
       "  (2): Dense({'in_features': 1024, 'out_features': 768, 'bias': False, 'activation_function': 'torch.nn.modules.linear.Identity'})\n",
       "  (3): Normalize()\n",
       "), model_name='hkunlp/instructor-large', cache_folder=None, model_kwargs={'device': 'cuda:0'}, encode_kwargs={'batch_size': 32}, embed_instruction='Represent the document for retrieval: ', query_instruction='Represent the query for retrieval: ')"
      ]
     },
     "execution_count": 4,
     "metadata": {},
     "output_type": "execute_result"
    }
   ],
   "source": [
    "embeddings.embed_documents()"
   ]
  },
  {
   "cell_type": "markdown",
   "source": [],
   "metadata": {
    "collapsed": false
   }
  },
  {
   "cell_type": "code",
   "execution_count": 5,
   "metadata": {
    "ExecuteTime": {
     "end_time": "2023-11-17T09:28:03.275416941Z",
     "start_time": "2023-11-17T09:28:01.107368637Z"
    }
   },
   "outputs": [
    {
     "data": {
      "text/plain": [
       "<langchain.vectorstores.faiss.FAISS at 0x7fb8cdfe6ee0>"
      ]
     },
     "execution_count": 5,
     "metadata": {},
     "output_type": "execute_result"
    }
   ],
   "source": [
    "vectorstore = FAISS.from_documents(documents, embeddings) ### choose from FAISS, Chroma, \n",
    "vectorstore.save_local('data/TextBooks/vectorstore_DSC250.vs')\n",
    "FAISS.load_local(\"data/TextBooks/vectorstore_DSC250.vs\", embeddings=embeddings)"
   ]
  },
  {
   "cell_type": "code",
   "execution_count": 6,
   "outputs": [
    {
     "data": {
      "text/plain": "Document(page_content='DSC250: Advanced Data Mining\\n\\nLanguage Models\\n\\nZhiting Hu Lecture 9, October 26, 2023\\n\\nLast lecture\\n\\nNeural language models:\\n\\n! Embedding: one-hot vectors -> embedding vectors\\n\\n! Neural networks\\n\\n2\\n\\nNeural Architectures of LMs\\n\\n3\\n\\nOutline\\n\\nRecurrent Networks (RNNs)\\n\\n! Long-range dependency, vanishing gradients ! LSTM ! RNNs in different forms\\n\\nAttention Mechanisms ! (Query, Key, Value) ! Attention on Text and Images\\n\\nTransformers: Multi-head Attention\\n\\n! Transformer ! BERT\\n\\n4\\n\\nOutline\\n\\nRecurrent Networks (RNNs)\\n\\n! Long-range dependency, vanishing gradients ! LSTM ! RNNs in different forms\\n\\nAttention Mechanisms ! (Query, Key, Value) ! Attention on Text and Images\\n\\nTransformers: Multi-head Attention\\n\\n! Transformer ! BERT\\n\\n5\\n\\nConvNets v.s. Recurrent Networks (RNNs)\\n\\nSpatial Modeling vs. Sequential Modeling ● Fixed vs. variable number of computation steps.\\n\\nℎ\"\\n\\nℎ#\\n\\nℎ$\\n\\nℎ!\\n\\nℎ!\\n\\n=\\n\\n𝑥\"\\n\\n𝑥#\\n\\n𝑥$\\n\\n𝑥!\\n\\n𝑥!\\n\\nThe output depends ONLY on the current input', metadata={'source': 'data/TextBooks/dsc250fall2023-lecture9-language-models.pdf'})"
     },
     "execution_count": 6,
     "metadata": {},
     "output_type": "execute_result"
    }
   ],
   "source": [
    "documents[0]"
   ],
   "metadata": {
    "collapsed": false,
    "ExecuteTime": {
     "end_time": "2023-11-18T00:24:11.374708705Z",
     "start_time": "2023-11-18T00:24:11.373166695Z"
    }
   }
  },
  {
   "cell_type": "code",
   "execution_count": 5,
   "metadata": {
    "ExecuteTime": {
     "end_time": "2023-11-17T09:28:04.927342999Z",
     "start_time": "2023-11-17T09:28:04.885350774Z"
    }
   },
   "outputs": [
    {
     "name": "stdout",
     "output_type": "stream",
     "text": [
      "An ML algorithm is a set of precise instructions telling the computer how to learn from data.\n",
      "\n",
      "This is because real world data has “structure”.\n",
      "\n",
      "An ML algorithm is a set of precise instructions telling the computer how to learn from data.\n",
      "\n",
      "Spoiler: the algorithms are usually pretty simple. It’s the data that does the real work.\n",
      "\n",
      "An ML algorithm is a set of precise instructions telling the computer how to learn from data.\n",
      "\n",
      "Spoiler: the algorithms are usually pretty simple. It’s the data that does the real work.\n",
      "\n",
      "This is because real world data has “structure”.\n",
      "\n",
      "Problem: On a scale from 1-10, how happy is this person?\n",
      "\n",
      "Recall: Least Squares Regression\n",
      "\n",
      "▶ Example: predict the price of a laptop.\n",
      "\n",
      "▶ Choose some features:\n",
      "\n",
      "▶ CPU speed, amount of RAM, weight (kg).\n",
      "\n",
      "▶ Prediction function (weighted “vote”):\n",
      "\n",
      "(price) = 𝑤0 + 𝑤1 × (cpu) + 𝑤2 × (ram) + 𝑤3 × (weight)\n",
      "\n",
      "▶ Learn 𝑤𝑖 by minimizing squared error.\n",
      "\n",
      "Representations\n",
      "\n",
      "▶ Computers don’t understand the concept of a\n",
      "\n",
      "laptop.\n"
     ]
    }
   ],
   "source": [
    "query = \"What is ML algorithm?\"\n",
    "docs = vectorstore.similarity_search(query)\n",
    "print(docs[0].page_content)"
   ]
  },
  {
   "cell_type": "code",
   "execution_count": 6,
   "metadata": {
    "ExecuteTime": {
     "end_time": "2023-11-17T09:28:16.152337264Z",
     "start_time": "2023-11-17T09:28:16.148953056Z"
    }
   },
   "outputs": [],
   "source": [
    "from langchain.memory import ConversationBufferMemory\n",
    "memory = ConversationBufferMemory(memory_key=\"chat_history\", return_messages=True)"
   ]
  },
  {
   "cell_type": "code",
   "execution_count": null,
   "metadata": {
    "ExecuteTime": {
     "start_time": "2023-11-17T09:28:17.326365958Z"
    }
   },
   "outputs": [],
   "source": [
    "from langchain.llms import HuggingFacePipeline\n",
    "import torch\n",
    "llm = HuggingFacePipeline.from_model_id(\n",
    "                model_id=\"lmsys/vicuna-7b-v1.5\",\n",
    "                task=\"text-generation\",#\"text2text-generation\",#,\n",
    "                model_kwargs={\"temperature\": 0.7, \"max_length\": 32, \"torch_dtype\": torch.float16},\n",
    "                pipeline_kwargs={'max_new_tokens':32},\n",
    "                device=\"cuda:0\"\n",
    "            )\n",
    "qa = ConversationalRetrievalChain.from_llm(llm, vectorstore.as_retriever(), memory=memory, return_source_documents=True)"
   ]
  },
  {
   "cell_type": "code",
   "execution_count": null,
   "metadata": {},
   "outputs": [],
   "source": [
    "query = \"What is ML algorithm?\"\n",
    "result = qa({\"question\": query})"
   ]
  },
  {
   "cell_type": "code",
   "execution_count": null,
   "metadata": {},
   "outputs": [],
   "source": [
    "result"
   ]
  },
  {
   "cell_type": "code",
   "execution_count": null,
   "metadata": {},
   "outputs": [],
   "source": [
    "from model.llm_langchain_tutor import LLMLangChainTutor"
   ]
  },
  {
   "cell_type": "code",
   "execution_count": null,
   "metadata": {},
   "outputs": [],
   "source": [
    "lmtutor = LLMLangChainTutor(openai_key=\"\")\n",
    "lmtutor.load_vector_store(\"data/TextBooks/vectorstore_DSC140B-Lec01\")\n",
    "lmtutor.conversational_qa_init()"
   ]
  },
  {
   "cell_type": "code",
   "execution_count": null,
   "metadata": {},
   "outputs": [],
   "source": [
    "lmtutor.conversational_qa('Is there a discussion session this week?')"
   ]
  },
  {
   "cell_type": "code",
   "execution_count": null,
   "metadata": {},
   "outputs": [],
   "source": [
    "from model.llm_langchain_tutor import LLMLangChainTutor"
   ]
  },
  {
   "cell_type": "code",
   "execution_count": null,
   "metadata": {},
   "outputs": [],
   "source": [
    "lmtutor = LLMLangChainTutor(embedding='instruct_embedding', llm='hf_facebook/bart-large-cnn', device='cuda:0')"
   ]
  },
  {
   "cell_type": "code",
   "execution_count": null,
   "metadata": {},
   "outputs": [],
   "source": [
    "lmtutor.load_document(doc_path=\"data/TextBooks\", glob='./DSC140B-Lec01.pdf', chunk_size=100, chunk_overlap=10)\n",
    "lmtutor.generate_vector_store()\n",
    "# lmtutor.conversational_qa_init()"
   ]
  },
  {
   "cell_type": "code",
   "execution_count": null,
   "metadata": {},
   "outputs": [],
   "source": [
    "lmtutor.similarity_search(\"is there a discussion session?\")[0].page_content"
   ]
  },
  {
   "cell_type": "code",
   "execution_count": null,
   "metadata": {},
   "outputs": [],
   "source": [
    "lmtutor.conversational_qa('is there a discussion session this week?')"
   ]
  },
  {
   "cell_type": "code",
   "execution_count": null,
   "metadata": {},
   "outputs": [],
   "source": []
  }
 ],
 "metadata": {
  "kernelspec": {
   "display_name": "Python 3 (ipykernel)",
   "language": "python",
   "name": "python3"
  },
  "language_info": {
   "codemirror_mode": {
    "name": "ipython",
    "version": 3
   },
   "file_extension": ".py",
   "mimetype": "text/x-python",
   "name": "python",
   "nbconvert_exporter": "python",
   "pygments_lexer": "ipython3",
   "version": "3.9.16"
  }
 },
 "nbformat": 4,
 "nbformat_minor": 4
}

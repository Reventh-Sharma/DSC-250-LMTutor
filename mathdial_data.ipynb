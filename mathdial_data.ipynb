{
 "cells": [
  {
   "cell_type": "code",
   "execution_count": 1,
   "id": "a637eb4a",
   "metadata": {},
   "outputs": [],
   "source": [
    "# Dataset\n",
    "import pandas as pd\n",
    "\n",
    "# LLM\n",
    "from langchain.embeddings.openai import OpenAIEmbeddings\n",
    "from langchain.embeddings import HuggingFaceInstructEmbeddings\n",
    "from langchain.vectorstores import Chroma, FAISS\n",
    "from langchain.text_splitter import CharacterTextSplitter\n",
    "from langchain.llms import OpenAI\n",
    "from langchain.chains import ConversationalRetrievalChain\n",
    "from langchain.document_loaders import TextLoader\n",
    "from langchain.document_loaders import WebBaseLoader\n",
    "\n",
    "# notebook configurations\n",
    "pd.options.display.max_colwidth = 1000"
   ]
  },
  {
   "cell_type": "code",
   "execution_count": 3,
   "id": "b006bb8b",
   "metadata": {},
   "outputs": [],
   "source": [
    "df = pd.read_csv(\"mathdial.tsv\", sep = '\\t')"
   ]
  },
  {
   "cell_type": "code",
   "execution_count": 6,
   "id": "fcb4cc2d",
   "metadata": {},
   "outputs": [
    {
     "data": {
      "text/html": [
       "<div>\n",
       "<style scoped>\n",
       "    .dataframe tbody tr th:only-of-type {\n",
       "        vertical-align: middle;\n",
       "    }\n",
       "\n",
       "    .dataframe tbody tr th {\n",
       "        vertical-align: top;\n",
       "    }\n",
       "\n",
       "    .dataframe thead th {\n",
       "        text-align: right;\n",
       "    }\n",
       "</style>\n",
       "<table border=\"1\" class=\"dataframe\">\n",
       "  <thead>\n",
       "    <tr style=\"text-align: right;\">\n",
       "      <th></th>\n",
       "      <th>qid</th>\n",
       "      <th>scenario</th>\n",
       "      <th>question</th>\n",
       "      <th>ground_truth</th>\n",
       "      <th>student_incorrect_solution</th>\n",
       "      <th>student_profile</th>\n",
       "      <th>teacher_described_confusion</th>\n",
       "      <th>self-correctness</th>\n",
       "      <th>self-typical-confusion</th>\n",
       "      <th>self-typical-interactions</th>\n",
       "      <th>conversation</th>\n",
       "    </tr>\n",
       "  </thead>\n",
       "  <tbody>\n",
       "    <tr>\n",
       "      <th>2403</th>\n",
       "      <td>5000802</td>\n",
       "      <td>4</td>\n",
       "      <td>Shawn collected 40 plain pebbles. He painted 9 pebbles red and 13 pebbles blue. He then divided the remaining pebbles equally into 3 groups, and painted them purple, yellow, and green. What is the difference between the number of blue and yellow pebbles?</td>\n",
       "      <td>After painting the red and blue pebbles, Shawn had a remainder of 40 - 9 - 13 = 18 pebbles.\\nHe painted 18/3 = 6 pebbles yellow.\\nThe difference between the number of blue and yellow pebbles is 13 - 6 = 7.\\n 7</td>\n",
       "      <td>Shawn painted a total of 9 + 13 = 22 pebbles.\\nHe has 40 - 22 = 18 pebbles left.\\nHe divided the remaining 18 pebbles equally into 3 groups, so each group has 18/3 = 6 pebbles.\\nHe painted these 6 pebbles yellow, purple, and green, so he painted a total of 13 + 6 = 19 pebbles yellow.\\nThe difference between the number of blue and yellow pebbles is 19 - 13 = 6.\\n 6</td>\n",
       "      <td>Riya is a 7th grade student. She struggle most with understanding what the problem is asking them to do.</td>\n",
       "      <td>Went too far in calculating number of yellow pebbles</td>\n",
       "      <td>Yes</td>\n",
       "      <td>4.0</td>\n",
       "      <td>4.0</td>\n",
       "      <td>Teacher: (generic)Hi Riyi.  Shawn painted 9 red pebbles, 13 blue pebbles, and the 18 remaining pebbles into 3 equal groups of 6 yellow, 6 purple, and 6 green pebbles.  Correct?|EOM|Student: Yes, that is correct.|EOM|Teacher: (probing)What is the difference between the 13 blue pebbles and the 6 yellow pebbles?|EOM|Student: The difference between the 13 blue pebbles and the 6 yellow pebbles is 13 - 6 = 7.|EOM|Teacher: (generic)Correct! Good Work!</td>\n",
       "    </tr>\n",
       "    <tr>\n",
       "      <th>1225</th>\n",
       "      <td>5000992</td>\n",
       "      <td>4</td>\n",
       "      <td>Jaco wants to buy Christmas gifts for his 8 friends that are worth $9 each.  Also, he wants to buy gifts for his mother and father that are of the same amount. He has a $100 budget to buy all gifts. How much is Jaco's budget for each of his mother and father's gift?</td>\n",
       "      <td>Jaco will spend a total of $9 x 8 = $72 for his 8 friends' gifts.\\nHe will be left with $100 - $72 = $28 for his mother and father's gift.\\nSo, Jaco's budget for each of his mother and father's gift is $28/2 = $14.\\n 14</td>\n",
       "      <td>Jaco is buying gifts for 8 friends, so he will spend 8 x $9 = $72 on those gifts.\\nHe also needs to buy gifts for his mother and father, which will cost another $9 x 2 = $18.\\nSo, Jaco will spend a total of $72 + $18 = $90 on all the gifts.\\nJaco's budget for his mother and father's gift is $100 - $90 = $10.\\nTherefore, Jaco's budget for each of his mother and father's gift is $10. \\n 10</td>\n",
       "      <td>Riya is a 7th grade student. She has problem with understanding of what steps or procedures are required to solve a problem.</td>\n",
       "      <td>The student forgot to subtract the money already spent on the friends' gifts.</td>\n",
       "      <td>Yes</td>\n",
       "      <td>2.0</td>\n",
       "      <td>3.0</td>\n",
       "      <td>Teacher: (probing)Hi Riya, I see you wee able to determine that Jaco spent $72 on his 8 friends' gifts. If he had $100, how much does he now have left? |EOM|Student: Jaco has $100 - $72 = $28 left.|EOM|Teacher: (focus)Yes, he has $28 remaining. It says he buys gifts for his mom and dad spending an equal amount on each. So the question now asks what his budget it for his mother and father's gifts? |EOM|Student: Jaco's budget for his mother and father's gift is $28 divided by 2, which is $14 each.|EOM|Teacher: (probing)Yes. Can you see where you went wrong initially? |EOM|Student: Yes, I initially thought that Jaco would spend $18 on his mother and father's gifts, but I forgot to subtract the $72 he spent on his 8 friends' gifts from the $100 budget. So, his budget for his mother and father's gift is actually $28.</td>\n",
       "    </tr>\n",
       "  </tbody>\n",
       "</table>\n",
       "</div>"
      ],
      "text/plain": [
       "          qid  scenario  \\\n",
       "2403  5000802         4   \n",
       "1225  5000992         4   \n",
       "\n",
       "                                                                                                                                                                                                                                                                        question  \\\n",
       "2403              Shawn collected 40 plain pebbles. He painted 9 pebbles red and 13 pebbles blue. He then divided the remaining pebbles equally into 3 groups, and painted them purple, yellow, and green. What is the difference between the number of blue and yellow pebbles?   \n",
       "1225  Jaco wants to buy Christmas gifts for his 8 friends that are worth $9 each.  Also, he wants to buy gifts for his mother and father that are of the same amount. He has a $100 budget to buy all gifts. How much is Jaco's budget for each of his mother and father's gift?   \n",
       "\n",
       "                                                                                                                                                                                                                     ground_truth  \\\n",
       "2403            After painting the red and blue pebbles, Shawn had a remainder of 40 - 9 - 13 = 18 pebbles.\\nHe painted 18/3 = 6 pebbles yellow.\\nThe difference between the number of blue and yellow pebbles is 13 - 6 = 7.\\n 7   \n",
       "1225  Jaco will spend a total of $9 x 8 = $72 for his 8 friends' gifts.\\nHe will be left with $100 - $72 = $28 for his mother and father's gift.\\nSo, Jaco's budget for each of his mother and father's gift is $28/2 = $14.\\n 14   \n",
       "\n",
       "                                                                                                                                                                                                                                                                                                                                                                                  student_incorrect_solution  \\\n",
       "2403                          Shawn painted a total of 9 + 13 = 22 pebbles.\\nHe has 40 - 22 = 18 pebbles left.\\nHe divided the remaining 18 pebbles equally into 3 groups, so each group has 18/3 = 6 pebbles.\\nHe painted these 6 pebbles yellow, purple, and green, so he painted a total of 13 + 6 = 19 pebbles yellow.\\nThe difference between the number of blue and yellow pebbles is 19 - 13 = 6.\\n 6   \n",
       "1225  Jaco is buying gifts for 8 friends, so he will spend 8 x $9 = $72 on those gifts.\\nHe also needs to buy gifts for his mother and father, which will cost another $9 x 2 = $18.\\nSo, Jaco will spend a total of $72 + $18 = $90 on all the gifts.\\nJaco's budget for his mother and father's gift is $100 - $90 = $10.\\nTherefore, Jaco's budget for each of his mother and father's gift is $10. \\n 10   \n",
       "\n",
       "                                                                                                                   student_profile  \\\n",
       "2403                      Riya is a 7th grade student. She struggle most with understanding what the problem is asking them to do.   \n",
       "1225  Riya is a 7th grade student. She has problem with understanding of what steps or procedures are required to solve a problem.   \n",
       "\n",
       "                                                        teacher_described_confusion  \\\n",
       "2403                           Went too far in calculating number of yellow pebbles   \n",
       "1225  The student forgot to subtract the money already spent on the friends' gifts.   \n",
       "\n",
       "     self-correctness  self-typical-confusion  self-typical-interactions  \\\n",
       "2403              Yes                     4.0                        4.0   \n",
       "1225              Yes                     2.0                        3.0   \n",
       "\n",
       "                                                                                                                                                                                                                                                                                                                                                                                                                                                                                                                                                                                                                                                                                                                                                                                                                                                 conversation  \n",
       "2403                                                                                                                                                                                                                                                                                                                                                                                         Teacher: (generic)Hi Riyi.  Shawn painted 9 red pebbles, 13 blue pebbles, and the 18 remaining pebbles into 3 equal groups of 6 yellow, 6 purple, and 6 green pebbles.  Correct?|EOM|Student: Yes, that is correct.|EOM|Teacher: (probing)What is the difference between the 13 blue pebbles and the 6 yellow pebbles?|EOM|Student: The difference between the 13 blue pebbles and the 6 yellow pebbles is 13 - 6 = 7.|EOM|Teacher: (generic)Correct! Good Work!  \n",
       "1225  Teacher: (probing)Hi Riya, I see you wee able to determine that Jaco spent $72 on his 8 friends' gifts. If he had $100, how much does he now have left? |EOM|Student: Jaco has $100 - $72 = $28 left.|EOM|Teacher: (focus)Yes, he has $28 remaining. It says he buys gifts for his mom and dad spending an equal amount on each. So the question now asks what his budget it for his mother and father's gifts? |EOM|Student: Jaco's budget for his mother and father's gift is $28 divided by 2, which is $14 each.|EOM|Teacher: (probing)Yes. Can you see where you went wrong initially? |EOM|Student: Yes, I initially thought that Jaco would spend $18 on his mother and father's gifts, but I forgot to subtract the $72 he spent on his 8 friends' gifts from the $100 budget. So, his budget for his mother and father's gift is actually $28.  "
      ]
     },
     "execution_count": 6,
     "metadata": {},
     "output_type": "execute_result"
    }
   ],
   "source": [
    "df.sample(2)"
   ]
  },
  {
   "cell_type": "code",
   "execution_count": 7,
   "id": "21d4d9ae",
   "metadata": {},
   "outputs": [],
   "source": [
    "loader = WebBaseLoader(\"https://github.com/bzekeria/dsc250-lmtutor/blob/main/data/mathdial.tsv\") ### many doc loaders\n",
    "docs = loader.load()\n",
    "\n",
    "text_splitter = CharacterTextSplitter(chunk_size=1000, chunk_overlap=0)\n",
    "documents = text_splitter.split_documents(docs)"
   ]
  },
  {
   "cell_type": "markdown",
   "id": "c095cedc",
   "metadata": {},
   "source": [
    "**The cell below is where the kernel dies**. I adjusted the parameters accordingly & the kernel still fails. Hopefully it works locally on your computer (I know my computer is low on memory smh).\n",
    "\n",
    "*I also tried using DataHub due to some NVIDIA drive issue*"
   ]
  },
  {
   "cell_type": "code",
   "execution_count": null,
   "id": "fcba2de7",
   "metadata": {},
   "outputs": [],
   "source": [
    "## gpu\n",
    "embeddings = HuggingFaceInstructEmbeddings(query_instruction=\"Represent the query for retrieval: \", model_kwargs={'device':'cuda:0'}, encode_kwargs={'batch_size':8})\n",
    "\n",
    "## cpu\n",
    "# embeddings = HuggingFaceInstructEmbeddings(query_instruction=\"Represent the query for retrieval: \", model_kwargs={'device':'cpu'}, encode_kwargs={'batch_size':32})"
   ]
  },
  {
   "cell_type": "code",
   "execution_count": null,
   "id": "6df80c5d",
   "metadata": {},
   "outputs": [],
   "source": [
    "vectorstore = FAISS.from_documents(documents, embeddings)"
   ]
  },
  {
   "cell_type": "code",
   "execution_count": null,
   "id": "ff41c94c",
   "metadata": {},
   "outputs": [],
   "source": [
    "vectorstore.save_local(\"https://github.com/bzekeria/dsc250-lmtutor/blob/main/data/mathdial.tsv\")"
   ]
  },
  {
   "cell_type": "code",
   "execution_count": null,
   "id": "242129b7",
   "metadata": {},
   "outputs": [],
   "source": [
    "FAISS.load_local(\"https://github.com/bzekeria/dsc250-lmtutor/blob/main/data/mathdial.tsv\", embeddings = embeddings)"
   ]
  },
  {
   "cell_type": "code",
   "execution_count": null,
   "id": "c81b0284",
   "metadata": {},
   "outputs": [],
   "source": [
    "# randomly sampling the question\n",
    "query = df[\"question\"].sample(1)\n",
    "query"
   ]
  },
  {
   "cell_type": "code",
   "execution_count": null,
   "id": "e3c4de86",
   "metadata": {},
   "outputs": [],
   "source": [
    "answer = vectorstore.similarity_search(query)"
   ]
  },
  {
   "cell_type": "code",
   "execution_count": null,
   "id": "1e2d0cfc",
   "metadata": {},
   "outputs": [],
   "source": []
  }
 ],
 "metadata": {
  "kernelspec": {
   "display_name": "Python 3 (ipykernel)",
   "language": "python",
   "name": "python3"
  },
  "language_info": {
   "codemirror_mode": {
    "name": "ipython",
    "version": 3
   },
   "file_extension": ".py",
   "mimetype": "text/x-python",
   "name": "python",
   "nbconvert_exporter": "python",
   "pygments_lexer": "ipython3",
   "version": "3.9.13"
  },
  "varInspector": {
   "cols": {
    "lenName": 16,
    "lenType": 16,
    "lenVar": 40
   },
   "kernels_config": {
    "python": {
     "delete_cmd_postfix": "",
     "delete_cmd_prefix": "del ",
     "library": "var_list.py",
     "varRefreshCmd": "print(var_dic_list())"
    },
    "r": {
     "delete_cmd_postfix": ") ",
     "delete_cmd_prefix": "rm(",
     "library": "var_list.r",
     "varRefreshCmd": "cat(var_dic_list()) "
    }
   },
   "types_to_exclude": [
    "module",
    "function",
    "builtin_function_or_method",
    "instance",
    "_Feature"
   ],
   "window_display": false
  }
 },
 "nbformat": 4,
 "nbformat_minor": 5
}
